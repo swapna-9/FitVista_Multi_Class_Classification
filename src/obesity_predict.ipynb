{
 "cells": [
  {
   "cell_type": "code",
   "execution_count": null,
   "id": "5ffcb3bb",
   "metadata": {
    "lines_to_next_cell": 1
   },
   "outputs": [],
   "source": [
    "# Import necessary libraries\n",
    "import pandas as pd\n",
    "import matplotlib.pyplot as plt\n",
    "from sklearn.metrics import recall_score\n",
    "import numpy as np\n",
    "import seaborn as sns\n",
    "from sklearn.preprocessing import StandardScaler, LabelEncoder\n",
    "from sklearn.decomposition import PCA\n",
    "from sklearn.model_selection import train_test_split, GridSearchCV\n",
    "from sklearn.metrics import classification_report, confusion_matrix\n",
    "import xgboost as xgb\n",
    "from sklearn.ensemble import RandomForestClassifier\n",
    "from sklearn.linear_model import LogisticRegression\n",
    "import os"
   ]
  },
  {
   "cell_type": "code",
   "execution_count": null,
   "id": "358a8252",
   "metadata": {
    "lines_to_next_cell": 1
   },
   "outputs": [],
   "source": [
    "# Step 1: Loading and Preprocessing Data\n",
    "def load_and_preprocess_data(file_path):\n",
    "    \"\"\"\n",
    "    Function to load and preprocess the dataset.\n",
    "    \"\"\"\n",
    "    # Load the dataset\n",
    "    data = pd.read_csv(file_path)\n",
    "    \n",
    "    # Rename columns for consistency\n",
    "    data.columns = data.columns.str.lower().str.replace(' ', '_')\n",
    "\n",
    "    print(data.dtypes)\n",
    "    \n",
    "    # Rename the target column\n",
    "    data = data.rename(columns={'nobeyesdad': 'target_classification'})\n",
    "\n",
    "    # Preserve original target labels for EDA\n",
    "    data['original_target_classification'] = data['target_classification']\n",
    "    \n",
    "    # Encode categorical columns\n",
    "    label_encoder = LabelEncoder()\n",
    "    data['target_classification'] = label_encoder.fit_transform(data['target_classification'])\n",
    "    \n",
    "    # Encode other categorical features\n",
    "    for column in data.select_dtypes(include=['object']).columns:\n",
    "        data[column] = label_encoder.fit_transform(data[column])\n",
    "    \n",
    "    return data"
   ]
  },
  {
   "cell_type": "code",
   "execution_count": null,
   "id": "d3317d0b",
   "metadata": {
    "lines_to_next_cell": 1
   },
   "outputs": [],
   "source": [
    "# Step 2: Data Visualization and EDA\n",
    "def visualize_data(data):\n",
    "    \"\"\"\n",
    "    Function to visualize the data using basic plots.\n",
    "    \"\"\"\n",
    "    # Plot the impact of Family History of Overweight on Obesity Levels\n",
    "    plt.figure(figsize=(16, 10))\n",
    "    sns.countplot(data=data, x='family_history_with_overweight', hue='original_target_classification', palette='coolwarm')\n",
    "    plt.title('Impact of Family History of Overweight on Obesity Levels')\n",
    "    plt.xlabel('Family History of Overweight')\n",
    "    plt.ylabel('Count')\n",
    "    plt.show()\n",
    "\n",
    "    # Analyzing the impact of sleep duration (TUE) on obesity levels\n",
    "\n",
    "    # Plot Sleep Duration (TUE) vs Obesity Levels\n",
    "    plt.figure(figsize=(16, 10))\n",
    "    sns.boxplot(data=data, x='tue', y='original_target_classification', palette='coolwarm')\n",
    "    plt.title('Sleep Duration (TUE) vs Obesity Levels')\n",
    "    plt.ylabel('Obesity Level')\n",
    "    plt.xlabel('Sleep Duration (Hours per Day)')\n",
    "    plt.xticks(rotation=0)\n",
    "    plt.show()\n",
    "\n",
    "    # Plot the effect of Eating High Caloric Food (FAVC) on Obesity Levels\n",
    "    plt.figure(figsize=(16, 10))\n",
    "    sns.countplot(data=data, x='favc', hue='original_target_classification', palette='magma')\n",
    "    plt.title('Effect of Eating High Caloric Food (FAVC) on Obesity Levels')\n",
    "    plt.xlabel('Eating High Caloric Food (Yes/No)')\n",
    "    plt.ylabel('Count')\n",
    "    plt.show()\n",
    "    \n",
    "    # Pairplot for visualizing relationships between variables\n",
    "    sns.pairplot(data, hue='original_target_classification')\n",
    "    plt.show()\n",
    "    \n",
    "    # Correlation heatmap\n",
    "    plt.figure(figsize=(10, 8))\n",
    "    sns.heatmap(data.corr(numeric_only = True), annot=True, cmap='coolwarm')\n",
    "    plt.title('Correlation Heatmap')\n",
    "    plt.show()"
   ]
  },
  {
   "cell_type": "code",
   "execution_count": null,
   "id": "44f3c70c",
   "metadata": {
    "lines_to_next_cell": 1
   },
   "outputs": [],
   "source": [
    "# Step 3: Feature Engineering (with PCA and Train/Validation/Test Split)\n",
    "def feature_engineering_with_pca(data, n_components=2):\n",
    "    \"\"\"\n",
    "    Function to scale, apply PCA, and split the dataset into training, validation, and test sets.\n",
    "    \"\"\"\n",
    "    X = data.drop('target_classification', axis=1)  # Features\n",
    "    y = data['target_classification']  # Target variable\n",
    "\n",
    "    for column in X.select_dtypes(include=['object']).columns:\n",
    "     le = LabelEncoder()\n",
    "     X[column] = le.fit_transform(X[column])\n",
    "\n",
    "    # Split the dataset into train (60%), validation (20%), and test (20%)\n",
    "    X_train, X_temp, y_train, y_temp = train_test_split(X, y, test_size=0.4, random_state=42)\n",
    "    X_val, X_test, y_val, y_test = train_test_split(X_temp, y_temp, test_size=0.5, random_state=42)\n",
    "\n",
    "    # Scale the features using the training set statistics\n",
    "    scaler = StandardScaler()\n",
    "    X_train_scaled = scaler.fit_transform(X_train)\n",
    "    X_val_scaled = scaler.transform(X_val)\n",
    "    X_test_scaled = scaler.transform(X_test)\n",
    "\n",
    "    # Apply PCA\n",
    "    pca = PCA(n_components=n_components)\n",
    "    X_train_pca = pca.fit_transform(X_train_scaled)\n",
    "    X_val_pca = pca.transform(X_val_scaled)\n",
    "    X_test_pca = pca.transform(X_test_scaled)\n",
    "\n",
    "    return X_train_pca, X_val_pca, X_test_pca, y_train, y_val, y_test"
   ]
  },
  {
   "cell_type": "markdown",
   "id": "a60f82c8",
   "metadata": {},
   "source": [
    "Step 4: Model Building (XGBoost and Random Forest)"
   ]
  },
  {
   "cell_type": "code",
   "execution_count": null,
   "id": "13fdba5d",
   "metadata": {
    "lines_to_next_cell": 1
   },
   "outputs": [],
   "source": [
    "def train_logistic_regression(X_train_pca, y_train):\n",
    "    model = LogisticRegression(max_iter=1000)\n",
    "    model.fit(X_train_pca, y_train)\n",
    "    return model"
   ]
  },
  {
   "cell_type": "code",
   "execution_count": null,
   "id": "ff6a708c",
   "metadata": {
    "lines_to_next_cell": 1
   },
   "outputs": [],
   "source": [
    "def train_xgboost(X_train_pca, y_train):\n",
    "    model = xgb.XGBClassifier(use_label_encoder=False, eval_metric='mlogloss')\n",
    "    model.fit(X_train_pca, y_train)\n",
    "    return model"
   ]
  },
  {
   "cell_type": "code",
   "execution_count": null,
   "id": "aa6e7ba2",
   "metadata": {
    "lines_to_next_cell": 1
   },
   "outputs": [],
   "source": [
    "def train_random_forest(X_train_pca, y_train):\n",
    "    model = RandomForestClassifier()\n",
    "    model.fit(X_train_pca, y_train)\n",
    "    return model"
   ]
  },
  {
   "cell_type": "code",
   "execution_count": null,
   "id": "f5737e3e",
   "metadata": {
    "lines_to_next_cell": 1
   },
   "outputs": [],
   "source": [
    "# Step 5: Hyperparameter Tuning\n",
    "def hyperparameter_tuning_xgboost(X_train, y_train, X_val, y_val):\n",
    "    \"\"\"\n",
    "    Function to perform hyperparameter tuning for XGBoost.\n",
    "    \"\"\"\n",
    "    param_grid = {\n",
    "        'learning_rate': [0.01, 0.1, 0.2],\n",
    "        'max_depth': [3, 5, 7],\n",
    "        'n_estimators': [100, 200, 300]\n",
    "    }\n",
    "\n",
    "    model = xgb.XGBClassifier(use_label_encoder=False, eval_metric='mlogloss')\n",
    "    grid_search = GridSearchCV(model, param_grid, cv=5, scoring='accuracy')\n",
    "    grid_search.fit(X_train, y_train)\n",
    "    \n",
    "    val_score = grid_search.score(X_val, y_val)\n",
    "    print(f\"Best parameters for XGBoost: {grid_search.best_params_}, Validation Accuracy: {val_score}\")\n",
    "    \n",
    "    return grid_search.best_estimator_"
   ]
  },
  {
   "cell_type": "code",
   "execution_count": null,
   "id": "8d5f7ff3",
   "metadata": {
    "lines_to_next_cell": 1
   },
   "outputs": [],
   "source": [
    "def hyperparameter_tuning_random_forest(X_train, y_train, X_val, y_val):\n",
    "    \"\"\"\n",
    "    Function to perform hyperparameter tuning for Random Forest.\n",
    "    \"\"\"\n",
    "    param_grid = {\n",
    "        'n_estimators': [100, 200, 300],\n",
    "        'max_depth': [5, 10, 15],\n",
    "        'min_samples_split': [2, 5, 10]\n",
    "    }\n",
    "\n",
    "    model = RandomForestClassifier()\n",
    "    grid_search = GridSearchCV(model, param_grid, cv=5, scoring='accuracy')\n",
    "    grid_search.fit(X_train, y_train)\n",
    "    \n",
    "    val_score = grid_search.score(X_val, y_val)\n",
    "    print(f\"Best parameters for Random Forest: {grid_search.best_params_}, Validation Accuracy: {val_score}\")\n",
    "    \n",
    "    return grid_search.best_estimator_"
   ]
  },
  {
   "cell_type": "code",
   "execution_count": null,
   "id": "0da31283",
   "metadata": {
    "lines_to_next_cell": 1
   },
   "outputs": [],
   "source": [
    "# Step 6: Model Evaluation\n",
    "def evaluate_model(model, X_test_pca, y_test):\n",
    "    y_pred = model.predict(X_test_pca)\n",
    "    print(classification_report(y_test, y_pred))\n",
    "    \n",
    "    # Confusion Matrix\n",
    "    cm = confusion_matrix(y_test, y_pred)\n",
    "    sns.heatmap(cm, annot=True, fmt='d', cmap='Blues')\n",
    "    plt.title('Confusion Matrix')\n",
    "    plt.ylabel('Actual')\n",
    "    plt.xlabel('Predicted')\n",
    "    plt.show()"
   ]
  },
  {
   "cell_type": "code",
   "execution_count": null,
   "id": "8e2ded5d",
   "metadata": {
    "lines_to_next_cell": 1
   },
   "outputs": [],
   "source": [
    "# Main Function to Orchestrate Workflow\n",
    "def main():\n",
    "    # Path to the dataset\n",
    "    file_path = os.path.join(os.path.dirname(__file__), '../data/Obesity_DataSet.csv')\n",
    "    \n",
    "    # Step 1: Load and preprocess the data\n",
    "    data = load_and_preprocess_data(file_path)\n",
    "    \n",
    "    # Step 2: Visualize data and perform EDA\n",
    "    visualize_data(data)\n",
    "    \n",
    "    # Step 3: Feature engineering with PCA (you can adjust n_components)\n",
    "    X_train_pca, X_val_pca, X_test_pca, y_train, y_val, y_test = feature_engineering_with_pca(data, n_components=5)\n",
    "    \n",
    "    # Train and evaluate Logistic Regression\n",
    "    logistic_model = train_logistic_regression(X_train_pca, y_train)\n",
    "    print(\"Logistic Regression Model Performance on Test Set:\")\n",
    "    evaluate_model(logistic_model, X_test_pca, y_test)\n",
    "    y_pred_logistic = logistic_model.predict(X_test_pca)  # Compute predictions for Logistic Regression\n",
    "    \n",
    "    # Train and evaluate XGBoost\n",
    "    xgboost_model = train_xgboost(X_train_pca, y_train)\n",
    "    print(\"XGBoost Model Performance on Test Set:\")\n",
    "    evaluate_model(xgboost_model, X_test_pca, y_test)\n",
    "    y_pred_xgboost = xgboost_model.predict(X_test_pca)  # Compute predictions for XGBoost\n",
    "    \n",
    "    # Train and evaluate Random Forest\n",
    "    random_forest_model = train_random_forest(X_train_pca, y_train)\n",
    "    print(\"Random Forest Model Performance on Test Set:\")\n",
    "    evaluate_model(random_forest_model, X_test_pca, y_test)\n",
    "    y_pred_rf = random_forest_model.predict(X_test_pca)  # Compute predictions for Random Forest\n",
    "    \n",
    "    # Plot recall scores for different classes\n",
    "    plot_recall_for_classes(\n",
    "        y_test,\n",
    "        [y_pred_logistic, y_pred_xgboost, y_pred_rf],\n",
    "        [\"Logistic Regression\", \"XGBoost\", \"Random Forest\"]\n",
    "    )"
   ]
  },
  {
   "cell_type": "code",
   "execution_count": null,
   "id": "a2b4e580",
   "metadata": {
    "lines_to_next_cell": 1
   },
   "outputs": [],
   "source": [
    "def plot_recall_for_classes(y_true, model_predictions, model_names):\n",
    "    \"\"\"\n",
    "    Plots recall scores for each class across different models.\n",
    "    \n",
    "    Parameters:\n",
    "        y_true (array-like): True labels.\n",
    "        model_predictions (list of array-like): A list containing predicted labels from each model.\n",
    "        model_names (list of str): Names of the models corresponding to the predictions.\n",
    "    \"\"\"\n",
    "    # Calculate recall scores for each model\n",
    "    recall_scores = {}\n",
    "    unique_classes = np.unique(y_true)\n",
    "\n",
    "    for model_name, y_pred in zip(model_names, model_predictions):\n",
    "        recall_per_class = recall_score(y_true, y_pred, average=None)\n",
    "        recall_scores[model_name] = recall_per_class\n",
    "\n",
    "    # Plot the recall scores\n",
    "    import matplotlib.pyplot as plt\n",
    "\n",
    "    plt.figure(figsize=(12, 6))\n",
    "    \n",
    "    # Set the positions of the bars on the x-axis\n",
    "    bar_width = 0.2\n",
    "    bar_positions = np.arange(len(unique_classes))\n",
    "\n",
    "    # Plot bars for each model\n",
    "    for i, (model_name, recalls) in enumerate(recall_scores.items()):\n",
    "        plt.bar(bar_positions + i * bar_width, recalls, width=bar_width, label=model_name)\n",
    "\n",
    "    # Labeling\n",
    "    plt.xlabel(\"Classes\")\n",
    "    plt.ylabel(\"Recall Score\")\n",
    "    plt.title(\"Recall Score for Different Classes Across Models\")\n",
    "    plt.xticks(bar_positions + bar_width * (len(model_names) / 2), unique_classes)\n",
    "    plt.legend()\n",
    "    plt.show()"
   ]
  },
  {
   "cell_type": "code",
   "execution_count": null,
   "id": "0969caea",
   "metadata": {},
   "outputs": [],
   "source": [
    "# Run the main function\n",
    "if __name__ == \"__main__\":\n",
    "    main()"
   ]
  }
 ],
 "metadata": {
  "jupytext": {
   "cell_metadata_filter": "-all",
   "main_language": "python",
   "notebook_metadata_filter": "-all"
  }
 },
 "nbformat": 4,
 "nbformat_minor": 5
}
